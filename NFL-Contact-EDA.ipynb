{
 "cells": [
  {
   "cell_type": "code",
   "execution_count": 1,
   "id": "32f2276e",
   "metadata": {
    "execution": {
     "iopub.execute_input": "2022-12-16T19:33:03.755236Z",
     "iopub.status.busy": "2022-12-16T19:33:03.754573Z",
     "iopub.status.idle": "2022-12-16T19:33:06.510379Z",
     "shell.execute_reply": "2022-12-16T19:33:06.509140Z"
    },
    "papermill": {
     "duration": 2.767009,
     "end_time": "2022-12-16T19:33:06.513533",
     "exception": false,
     "start_time": "2022-12-16T19:33:03.746524",
     "status": "completed"
    },
    "tags": []
   },
   "outputs": [],
   "source": [
    "import numpy as np\n",
    "import pandas as pd\n",
    "from pandas_profiling import ProfileReport\n",
    "import matplotlib.pylab as plt\n",
    "%matplotlib inline\n",
    "from sklearn.metrics import matthews_corrcoef\n",
    "import seaborn as sns\n",
    "\n",
    "import warnings\n",
    "warnings.filterwarnings('ignore')"
   ]
  },
  {
   "cell_type": "markdown",
   "id": "17073969",
   "metadata": {
    "papermill": {
     "duration": 0.004004,
     "end_time": "2022-12-16T19:33:06.522138",
     "exception": false,
     "start_time": "2022-12-16T19:33:06.518134",
     "status": "completed"
    },
    "tags": []
   },
   "source": [
    "## Load Data "
   ]
  },
  {
   "cell_type": "code",
   "execution_count": 2,
   "id": "c0753cb1",
   "metadata": {
    "execution": {
     "iopub.execute_input": "2022-12-16T19:33:06.532528Z",
     "iopub.status.busy": "2022-12-16T19:33:06.532011Z",
     "iopub.status.idle": "2022-12-16T19:33:51.749820Z",
     "shell.execute_reply": "2022-12-16T19:33:51.748547Z"
    },
    "papermill": {
     "duration": 45.226802,
     "end_time": "2022-12-16T19:33:51.753215",
     "exception": false,
     "start_time": "2022-12-16T19:33:06.526413",
     "status": "completed"
    },
    "tags": []
   },
   "outputs": [],
   "source": [
    "BASE_DIR = \"/kaggle/input/nfl-player-contact-detection\"\n",
    "\n",
    "labels = pd.read_csv(f\"{BASE_DIR}/train_labels.csv\", parse_dates=[\"datetime\"])\n",
    "\n",
    "train_player_tracking = pd.read_csv(\n",
    "    f\"{BASE_DIR}/train_player_tracking.csv\", parse_dates=[\"datetime\"]\n",
    ")\n",
    "test_player_tracking = pd.read_csv(\n",
    "    f\"{BASE_DIR}/test_player_tracking.csv\", parse_dates=[\"datetime\"]\n",
    ")\n",
    "\n",
    "# Baseline helmet detection labels\n",
    "train_helmets = pd.read_csv(f\"{BASE_DIR}/train_baseline_helmets.csv\")\n",
    "test_helmets = pd.read_csv(f\"{BASE_DIR}/test_baseline_helmets.csv\")\n",
    "\n",
    "# Video metadata with start/stop timestamps\n",
    "train_video_metadata = pd.read_csv(\n",
    "    \"../input/nfl-player-contact-detection/train_video_metadata.csv\",\n",
    "    parse_dates=[\"start_time\", \"end_time\", \"snap_time\"],\n",
    ")\n"
   ]
  },
  {
   "cell_type": "markdown",
   "id": "b7f37b30",
   "metadata": {
    "papermill": {
     "duration": 0.004117,
     "end_time": "2022-12-16T19:33:51.761867",
     "exception": false,
     "start_time": "2022-12-16T19:33:51.757750",
     "status": "completed"
    },
    "tags": []
   },
   "source": [
    "## train_player_tracking"
   ]
  },
  {
   "cell_type": "code",
   "execution_count": 3,
   "id": "3c6607da",
   "metadata": {
    "execution": {
     "iopub.execute_input": "2022-12-16T19:33:51.772187Z",
     "iopub.status.busy": "2022-12-16T19:33:51.771745Z",
     "iopub.status.idle": "2022-12-16T19:33:51.776492Z",
     "shell.execute_reply": "2022-12-16T19:33:51.775215Z"
    },
    "papermill": {
     "duration": 0.012758,
     "end_time": "2022-12-16T19:33:51.778810",
     "exception": false,
     "start_time": "2022-12-16T19:33:51.766052",
     "status": "completed"
    },
    "tags": []
   },
   "outputs": [],
   "source": [
    "#report = ProfileReport(train_player_tracking)\n",
    "#report"
   ]
  },
  {
   "cell_type": "code",
   "execution_count": 4,
   "id": "7afae327",
   "metadata": {
    "execution": {
     "iopub.execute_input": "2022-12-16T19:33:51.789025Z",
     "iopub.status.busy": "2022-12-16T19:33:51.788617Z",
     "iopub.status.idle": "2022-12-16T19:33:51.820824Z",
     "shell.execute_reply": "2022-12-16T19:33:51.819471Z"
    },
    "papermill": {
     "duration": 0.040367,
     "end_time": "2022-12-16T19:33:51.823490",
     "exception": false,
     "start_time": "2022-12-16T19:33:51.783123",
     "status": "completed"
    },
    "tags": []
   },
   "outputs": [
    {
     "data": {
      "text/html": [
       "<div>\n",
       "<style scoped>\n",
       "    .dataframe tbody tr th:only-of-type {\n",
       "        vertical-align: middle;\n",
       "    }\n",
       "\n",
       "    .dataframe tbody tr th {\n",
       "        vertical-align: top;\n",
       "    }\n",
       "\n",
       "    .dataframe thead th {\n",
       "        text-align: right;\n",
       "    }\n",
       "</style>\n",
       "<table border=\"1\" class=\"dataframe\">\n",
       "  <thead>\n",
       "    <tr style=\"text-align: right;\">\n",
       "      <th></th>\n",
       "      <th>game_play</th>\n",
       "      <th>game_key</th>\n",
       "      <th>play_id</th>\n",
       "      <th>nfl_player_id</th>\n",
       "      <th>datetime</th>\n",
       "      <th>step</th>\n",
       "      <th>team</th>\n",
       "      <th>position</th>\n",
       "      <th>jersey_number</th>\n",
       "      <th>x_position</th>\n",
       "      <th>y_position</th>\n",
       "      <th>speed</th>\n",
       "      <th>distance</th>\n",
       "      <th>direction</th>\n",
       "      <th>orientation</th>\n",
       "      <th>acceleration</th>\n",
       "      <th>sa</th>\n",
       "    </tr>\n",
       "  </thead>\n",
       "  <tbody>\n",
       "    <tr>\n",
       "      <th>0</th>\n",
       "      <td>58580_001136</td>\n",
       "      <td>58580</td>\n",
       "      <td>1136</td>\n",
       "      <td>44830</td>\n",
       "      <td>2021-10-10 21:08:20.900000+00:00</td>\n",
       "      <td>-108</td>\n",
       "      <td>away</td>\n",
       "      <td>CB</td>\n",
       "      <td>22</td>\n",
       "      <td>61.59</td>\n",
       "      <td>42.60</td>\n",
       "      <td>1.11</td>\n",
       "      <td>0.11</td>\n",
       "      <td>320.33</td>\n",
       "      <td>263.93</td>\n",
       "      <td>0.71</td>\n",
       "      <td>-0.64</td>\n",
       "    </tr>\n",
       "    <tr>\n",
       "      <th>1</th>\n",
       "      <td>58580_001136</td>\n",
       "      <td>58580</td>\n",
       "      <td>1136</td>\n",
       "      <td>47800</td>\n",
       "      <td>2021-10-10 21:08:20.900000+00:00</td>\n",
       "      <td>-108</td>\n",
       "      <td>away</td>\n",
       "      <td>DE</td>\n",
       "      <td>97</td>\n",
       "      <td>59.48</td>\n",
       "      <td>26.81</td>\n",
       "      <td>0.23</td>\n",
       "      <td>0.01</td>\n",
       "      <td>346.84</td>\n",
       "      <td>247.16</td>\n",
       "      <td>1.29</td>\n",
       "      <td>0.90</td>\n",
       "    </tr>\n",
       "    <tr>\n",
       "      <th>2</th>\n",
       "      <td>58580_001136</td>\n",
       "      <td>58580</td>\n",
       "      <td>1136</td>\n",
       "      <td>52444</td>\n",
       "      <td>2021-10-10 21:08:20.900000+00:00</td>\n",
       "      <td>-108</td>\n",
       "      <td>away</td>\n",
       "      <td>FS</td>\n",
       "      <td>29</td>\n",
       "      <td>72.19</td>\n",
       "      <td>31.46</td>\n",
       "      <td>0.61</td>\n",
       "      <td>0.06</td>\n",
       "      <td>11.77</td>\n",
       "      <td>247.69</td>\n",
       "      <td>0.63</td>\n",
       "      <td>-0.33</td>\n",
       "    </tr>\n",
       "    <tr>\n",
       "      <th>3</th>\n",
       "      <td>58580_001136</td>\n",
       "      <td>58580</td>\n",
       "      <td>1136</td>\n",
       "      <td>46206</td>\n",
       "      <td>2021-10-10 21:08:20.900000+00:00</td>\n",
       "      <td>-108</td>\n",
       "      <td>home</td>\n",
       "      <td>TE</td>\n",
       "      <td>86</td>\n",
       "      <td>57.37</td>\n",
       "      <td>22.12</td>\n",
       "      <td>0.37</td>\n",
       "      <td>0.04</td>\n",
       "      <td>127.85</td>\n",
       "      <td>63.63</td>\n",
       "      <td>0.69</td>\n",
       "      <td>0.62</td>\n",
       "    </tr>\n",
       "    <tr>\n",
       "      <th>4</th>\n",
       "      <td>58580_001136</td>\n",
       "      <td>58580</td>\n",
       "      <td>1136</td>\n",
       "      <td>52663</td>\n",
       "      <td>2021-10-10 21:08:20.900000+00:00</td>\n",
       "      <td>-108</td>\n",
       "      <td>away</td>\n",
       "      <td>ILB</td>\n",
       "      <td>48</td>\n",
       "      <td>63.25</td>\n",
       "      <td>27.50</td>\n",
       "      <td>0.51</td>\n",
       "      <td>0.05</td>\n",
       "      <td>183.62</td>\n",
       "      <td>253.71</td>\n",
       "      <td>0.31</td>\n",
       "      <td>0.31</td>\n",
       "    </tr>\n",
       "  </tbody>\n",
       "</table>\n",
       "</div>"
      ],
      "text/plain": [
       "      game_play  game_key  play_id  nfl_player_id  \\\n",
       "0  58580_001136     58580     1136          44830   \n",
       "1  58580_001136     58580     1136          47800   \n",
       "2  58580_001136     58580     1136          52444   \n",
       "3  58580_001136     58580     1136          46206   \n",
       "4  58580_001136     58580     1136          52663   \n",
       "\n",
       "                          datetime  step  team position  jersey_number  \\\n",
       "0 2021-10-10 21:08:20.900000+00:00  -108  away       CB             22   \n",
       "1 2021-10-10 21:08:20.900000+00:00  -108  away       DE             97   \n",
       "2 2021-10-10 21:08:20.900000+00:00  -108  away       FS             29   \n",
       "3 2021-10-10 21:08:20.900000+00:00  -108  home       TE             86   \n",
       "4 2021-10-10 21:08:20.900000+00:00  -108  away      ILB             48   \n",
       "\n",
       "   x_position  y_position  speed  distance  direction  orientation  \\\n",
       "0       61.59       42.60   1.11      0.11     320.33       263.93   \n",
       "1       59.48       26.81   0.23      0.01     346.84       247.16   \n",
       "2       72.19       31.46   0.61      0.06      11.77       247.69   \n",
       "3       57.37       22.12   0.37      0.04     127.85        63.63   \n",
       "4       63.25       27.50   0.51      0.05     183.62       253.71   \n",
       "\n",
       "   acceleration    sa  \n",
       "0          0.71 -0.64  \n",
       "1          1.29  0.90  \n",
       "2          0.63 -0.33  \n",
       "3          0.69  0.62  \n",
       "4          0.31  0.31  "
      ]
     },
     "execution_count": 4,
     "metadata": {},
     "output_type": "execute_result"
    }
   ],
   "source": [
    "# show first entries\n",
    "train_player_tracking.head()"
   ]
  },
  {
   "cell_type": "code",
   "execution_count": 5,
   "id": "9dcecc45",
   "metadata": {
    "execution": {
     "iopub.execute_input": "2022-12-16T19:33:51.834316Z",
     "iopub.status.busy": "2022-12-16T19:33:51.833905Z",
     "iopub.status.idle": "2022-12-16T19:33:51.855355Z",
     "shell.execute_reply": "2022-12-16T19:33:51.854196Z"
    },
    "papermill": {
     "duration": 0.029516,
     "end_time": "2022-12-16T19:33:51.857627",
     "exception": false,
     "start_time": "2022-12-16T19:33:51.828111",
     "status": "completed"
    },
    "tags": []
   },
   "outputs": [
    {
     "data": {
      "text/html": [
       "<div>\n",
       "<style scoped>\n",
       "    .dataframe tbody tr th:only-of-type {\n",
       "        vertical-align: middle;\n",
       "    }\n",
       "\n",
       "    .dataframe tbody tr th {\n",
       "        vertical-align: top;\n",
       "    }\n",
       "\n",
       "    .dataframe thead th {\n",
       "        text-align: right;\n",
       "    }\n",
       "</style>\n",
       "<table border=\"1\" class=\"dataframe\">\n",
       "  <thead>\n",
       "    <tr style=\"text-align: right;\">\n",
       "      <th></th>\n",
       "      <th>game_play</th>\n",
       "      <th>game_key</th>\n",
       "      <th>play_id</th>\n",
       "      <th>nfl_player_id</th>\n",
       "      <th>datetime</th>\n",
       "      <th>step</th>\n",
       "      <th>team</th>\n",
       "      <th>position</th>\n",
       "      <th>jersey_number</th>\n",
       "      <th>x_position</th>\n",
       "      <th>y_position</th>\n",
       "      <th>speed</th>\n",
       "      <th>distance</th>\n",
       "      <th>direction</th>\n",
       "      <th>orientation</th>\n",
       "      <th>acceleration</th>\n",
       "      <th>sa</th>\n",
       "    </tr>\n",
       "  </thead>\n",
       "  <tbody>\n",
       "    <tr>\n",
       "      <th>1353048</th>\n",
       "      <td>58575_003081</td>\n",
       "      <td>58575</td>\n",
       "      <td>3081</td>\n",
       "      <td>48476</td>\n",
       "      <td>2021-10-10 19:22:06.800000+00:00</td>\n",
       "      <td>140</td>\n",
       "      <td>away</td>\n",
       "      <td>CB</td>\n",
       "      <td>40</td>\n",
       "      <td>72.28</td>\n",
       "      <td>51.80</td>\n",
       "      <td>1.59</td>\n",
       "      <td>0.17</td>\n",
       "      <td>345.36</td>\n",
       "      <td>342.68</td>\n",
       "      <td>0.49</td>\n",
       "      <td>-0.41</td>\n",
       "    </tr>\n",
       "    <tr>\n",
       "      <th>1353049</th>\n",
       "      <td>58575_003081</td>\n",
       "      <td>58575</td>\n",
       "      <td>3081</td>\n",
       "      <td>44887</td>\n",
       "      <td>2021-10-10 19:22:06.800000+00:00</td>\n",
       "      <td>140</td>\n",
       "      <td>away</td>\n",
       "      <td>ILB</td>\n",
       "      <td>45</td>\n",
       "      <td>74.76</td>\n",
       "      <td>54.50</td>\n",
       "      <td>0.98</td>\n",
       "      <td>0.10</td>\n",
       "      <td>342.39</td>\n",
       "      <td>354.46</td>\n",
       "      <td>0.63</td>\n",
       "      <td>-0.24</td>\n",
       "    </tr>\n",
       "    <tr>\n",
       "      <th>1353050</th>\n",
       "      <td>58575_003081</td>\n",
       "      <td>58575</td>\n",
       "      <td>3081</td>\n",
       "      <td>44174</td>\n",
       "      <td>2021-10-10 19:22:06.800000+00:00</td>\n",
       "      <td>140</td>\n",
       "      <td>away</td>\n",
       "      <td>ILB</td>\n",
       "      <td>49</td>\n",
       "      <td>74.54</td>\n",
       "      <td>55.75</td>\n",
       "      <td>1.12</td>\n",
       "      <td>0.11</td>\n",
       "      <td>352.79</td>\n",
       "      <td>349.20</td>\n",
       "      <td>0.63</td>\n",
       "      <td>0.46</td>\n",
       "    </tr>\n",
       "    <tr>\n",
       "      <th>1353051</th>\n",
       "      <td>58575_003081</td>\n",
       "      <td>58575</td>\n",
       "      <td>3081</td>\n",
       "      <td>45217</td>\n",
       "      <td>2021-10-10 19:22:06.800000+00:00</td>\n",
       "      <td>140</td>\n",
       "      <td>away</td>\n",
       "      <td>TE</td>\n",
       "      <td>82</td>\n",
       "      <td>80.44</td>\n",
       "      <td>48.77</td>\n",
       "      <td>1.93</td>\n",
       "      <td>0.20</td>\n",
       "      <td>340.78</td>\n",
       "      <td>346.51</td>\n",
       "      <td>0.53</td>\n",
       "      <td>-0.51</td>\n",
       "    </tr>\n",
       "    <tr>\n",
       "      <th>1353052</th>\n",
       "      <td>58575_003081</td>\n",
       "      <td>58575</td>\n",
       "      <td>3081</td>\n",
       "      <td>43757</td>\n",
       "      <td>2021-10-10 19:22:06.800000+00:00</td>\n",
       "      <td>140</td>\n",
       "      <td>home</td>\n",
       "      <td>SS</td>\n",
       "      <td>26</td>\n",
       "      <td>110.56</td>\n",
       "      <td>24.05</td>\n",
       "      <td>2.64</td>\n",
       "      <td>0.27</td>\n",
       "      <td>231.91</td>\n",
       "      <td>230.50</td>\n",
       "      <td>0.46</td>\n",
       "      <td>-0.41</td>\n",
       "    </tr>\n",
       "  </tbody>\n",
       "</table>\n",
       "</div>"
      ],
      "text/plain": [
       "            game_play  game_key  play_id  nfl_player_id  \\\n",
       "1353048  58575_003081     58575     3081          48476   \n",
       "1353049  58575_003081     58575     3081          44887   \n",
       "1353050  58575_003081     58575     3081          44174   \n",
       "1353051  58575_003081     58575     3081          45217   \n",
       "1353052  58575_003081     58575     3081          43757   \n",
       "\n",
       "                                datetime  step  team position  jersey_number  \\\n",
       "1353048 2021-10-10 19:22:06.800000+00:00   140  away       CB             40   \n",
       "1353049 2021-10-10 19:22:06.800000+00:00   140  away      ILB             45   \n",
       "1353050 2021-10-10 19:22:06.800000+00:00   140  away      ILB             49   \n",
       "1353051 2021-10-10 19:22:06.800000+00:00   140  away       TE             82   \n",
       "1353052 2021-10-10 19:22:06.800000+00:00   140  home       SS             26   \n",
       "\n",
       "         x_position  y_position  speed  distance  direction  orientation  \\\n",
       "1353048       72.28       51.80   1.59      0.17     345.36       342.68   \n",
       "1353049       74.76       54.50   0.98      0.10     342.39       354.46   \n",
       "1353050       74.54       55.75   1.12      0.11     352.79       349.20   \n",
       "1353051       80.44       48.77   1.93      0.20     340.78       346.51   \n",
       "1353052      110.56       24.05   2.64      0.27     231.91       230.50   \n",
       "\n",
       "         acceleration    sa  \n",
       "1353048          0.49 -0.41  \n",
       "1353049          0.63 -0.24  \n",
       "1353050          0.63  0.46  \n",
       "1353051          0.53 -0.51  \n",
       "1353052          0.46 -0.41  "
      ]
     },
     "execution_count": 5,
     "metadata": {},
     "output_type": "execute_result"
    }
   ],
   "source": [
    "#show last entries\n",
    "train_player_tracking.tail()"
   ]
  },
  {
   "cell_type": "code",
   "execution_count": 6,
   "id": "32ead4b8",
   "metadata": {
    "execution": {
     "iopub.execute_input": "2022-12-16T19:33:51.869277Z",
     "iopub.status.busy": "2022-12-16T19:33:51.868054Z",
     "iopub.status.idle": "2022-12-16T19:33:52.093483Z",
     "shell.execute_reply": "2022-12-16T19:33:52.092039Z"
    },
    "papermill": {
     "duration": 0.234108,
     "end_time": "2022-12-16T19:33:52.096418",
     "exception": false,
     "start_time": "2022-12-16T19:33:51.862310",
     "status": "completed"
    },
    "tags": []
   },
   "outputs": [
    {
     "name": "stdout",
     "output_type": "stream",
     "text": [
      "<class 'pandas.core.frame.DataFrame'>\n",
      "RangeIndex: 1353053 entries, 0 to 1353052\n",
      "Data columns (total 17 columns):\n",
      " #   Column         Non-Null Count    Dtype              \n",
      "---  ------         --------------    -----              \n",
      " 0   game_play      1353053 non-null  object             \n",
      " 1   game_key       1353053 non-null  int64              \n",
      " 2   play_id        1353053 non-null  int64              \n",
      " 3   nfl_player_id  1353053 non-null  int64              \n",
      " 4   datetime       1353053 non-null  datetime64[ns, UTC]\n",
      " 5   step           1353053 non-null  int64              \n",
      " 6   team           1353053 non-null  object             \n",
      " 7   position       1353053 non-null  object             \n",
      " 8   jersey_number  1353053 non-null  int64              \n",
      " 9   x_position     1353053 non-null  float64            \n",
      " 10  y_position     1353053 non-null  float64            \n",
      " 11  speed          1353053 non-null  float64            \n",
      " 12  distance       1353053 non-null  float64            \n",
      " 13  direction      1353053 non-null  float64            \n",
      " 14  orientation    1353053 non-null  float64            \n",
      " 15  acceleration   1353053 non-null  float64            \n",
      " 16  sa             1353053 non-null  float64            \n",
      "dtypes: datetime64[ns, UTC](1), float64(8), int64(5), object(3)\n",
      "memory usage: 175.5+ MB\n"
     ]
    }
   ],
   "source": [
    "# data types, NaN count, columns\n",
    "train_player_tracking.info()"
   ]
  },
  {
   "cell_type": "code",
   "execution_count": 7,
   "id": "7e057239",
   "metadata": {
    "execution": {
     "iopub.execute_input": "2022-12-16T19:33:52.108518Z",
     "iopub.status.busy": "2022-12-16T19:33:52.108127Z",
     "iopub.status.idle": "2022-12-16T19:33:52.592660Z",
     "shell.execute_reply": "2022-12-16T19:33:52.591474Z"
    },
    "papermill": {
     "duration": 0.493808,
     "end_time": "2022-12-16T19:33:52.595378",
     "exception": false,
     "start_time": "2022-12-16T19:33:52.101570",
     "status": "completed"
    },
    "tags": []
   },
   "outputs": [
    {
     "data": {
      "text/plain": [
       "game_play          240\n",
       "game_key           149\n",
       "play_id            233\n",
       "nfl_player_id     1687\n",
       "datetime         61279\n",
       "step              1032\n",
       "team                 2\n",
       "position            28\n",
       "jersey_number       99\n",
       "x_position       12295\n",
       "y_position        6893\n",
       "speed             1057\n",
       "distance           144\n",
       "direction        36001\n",
       "orientation      36001\n",
       "acceleration       840\n",
       "sa                1504\n",
       "dtype: int64"
      ]
     },
     "execution_count": 7,
     "metadata": {},
     "output_type": "execute_result"
    }
   ],
   "source": [
    "# check for duplicate data\n",
    "train_player_tracking.nunique()"
   ]
  },
  {
   "cell_type": "code",
   "execution_count": 8,
   "id": "47dcab2e",
   "metadata": {
    "execution": {
     "iopub.execute_input": "2022-12-16T19:33:52.607517Z",
     "iopub.status.busy": "2022-12-16T19:33:52.606696Z",
     "iopub.status.idle": "2022-12-16T19:33:53.359897Z",
     "shell.execute_reply": "2022-12-16T19:33:53.358683Z"
    },
    "papermill": {
     "duration": 0.761836,
     "end_time": "2022-12-16T19:33:53.362204",
     "exception": false,
     "start_time": "2022-12-16T19:33:52.600368",
     "status": "completed"
    },
    "tags": []
   },
   "outputs": [
    {
     "data": {
      "text/html": [
       "<div>\n",
       "<style scoped>\n",
       "    .dataframe tbody tr th:only-of-type {\n",
       "        vertical-align: middle;\n",
       "    }\n",
       "\n",
       "    .dataframe tbody tr th {\n",
       "        vertical-align: top;\n",
       "    }\n",
       "\n",
       "    .dataframe thead th {\n",
       "        text-align: right;\n",
       "    }\n",
       "</style>\n",
       "<table border=\"1\" class=\"dataframe\">\n",
       "  <thead>\n",
       "    <tr style=\"text-align: right;\">\n",
       "      <th></th>\n",
       "      <th>count</th>\n",
       "      <th>mean</th>\n",
       "      <th>std</th>\n",
       "      <th>min</th>\n",
       "      <th>25%</th>\n",
       "      <th>50%</th>\n",
       "      <th>75%</th>\n",
       "      <th>max</th>\n",
       "    </tr>\n",
       "  </thead>\n",
       "  <tbody>\n",
       "    <tr>\n",
       "      <th>game_key</th>\n",
       "      <td>1353053.0</td>\n",
       "      <td>58365.798892</td>\n",
       "      <td>137.696060</td>\n",
       "      <td>58168.00</td>\n",
       "      <td>58225.00</td>\n",
       "      <td>58330.00</td>\n",
       "      <td>58516.00</td>\n",
       "      <td>58582.00</td>\n",
       "    </tr>\n",
       "    <tr>\n",
       "      <th>play_id</th>\n",
       "      <td>1353053.0</td>\n",
       "      <td>2156.408095</td>\n",
       "      <td>1211.457383</td>\n",
       "      <td>40.00</td>\n",
       "      <td>1016.00</td>\n",
       "      <td>2369.00</td>\n",
       "      <td>3139.00</td>\n",
       "      <td>4644.00</td>\n",
       "    </tr>\n",
       "    <tr>\n",
       "      <th>nfl_player_id</th>\n",
       "      <td>1353053.0</td>\n",
       "      <td>44747.017081</td>\n",
       "      <td>4831.883106</td>\n",
       "      <td>25511.00</td>\n",
       "      <td>42352.00</td>\n",
       "      <td>44893.00</td>\n",
       "      <td>47814.00</td>\n",
       "      <td>53985.00</td>\n",
       "    </tr>\n",
       "    <tr>\n",
       "      <th>step</th>\n",
       "      <td>1353053.0</td>\n",
       "      <td>-11.900465</td>\n",
       "      <td>112.549475</td>\n",
       "      <td>-339.00</td>\n",
       "      <td>-86.00</td>\n",
       "      <td>-15.00</td>\n",
       "      <td>49.00</td>\n",
       "      <td>692.00</td>\n",
       "    </tr>\n",
       "    <tr>\n",
       "      <th>jersey_number</th>\n",
       "      <td>1353053.0</td>\n",
       "      <td>51.282450</td>\n",
       "      <td>28.636098</td>\n",
       "      <td>1.00</td>\n",
       "      <td>25.00</td>\n",
       "      <td>52.00</td>\n",
       "      <td>76.00</td>\n",
       "      <td>99.00</td>\n",
       "    </tr>\n",
       "    <tr>\n",
       "      <th>x_position</th>\n",
       "      <td>1353053.0</td>\n",
       "      <td>60.308048</td>\n",
       "      <td>26.815381</td>\n",
       "      <td>-7.47</td>\n",
       "      <td>38.48</td>\n",
       "      <td>59.69</td>\n",
       "      <td>81.71</td>\n",
       "      <td>125.65</td>\n",
       "    </tr>\n",
       "    <tr>\n",
       "      <th>y_position</th>\n",
       "      <td>1353053.0</td>\n",
       "      <td>26.758909</td>\n",
       "      <td>8.507395</td>\n",
       "      <td>-12.87</td>\n",
       "      <td>22.49</td>\n",
       "      <td>26.74</td>\n",
       "      <td>31.04</td>\n",
       "      <td>63.72</td>\n",
       "    </tr>\n",
       "    <tr>\n",
       "      <th>speed</th>\n",
       "      <td>1353053.0</td>\n",
       "      <td>1.259892</td>\n",
       "      <td>1.658213</td>\n",
       "      <td>0.00</td>\n",
       "      <td>0.12</td>\n",
       "      <td>0.65</td>\n",
       "      <td>1.62</td>\n",
       "      <td>14.89</td>\n",
       "    </tr>\n",
       "    <tr>\n",
       "      <th>distance</th>\n",
       "      <td>1353053.0</td>\n",
       "      <td>0.128708</td>\n",
       "      <td>0.166647</td>\n",
       "      <td>0.00</td>\n",
       "      <td>0.02</td>\n",
       "      <td>0.07</td>\n",
       "      <td>0.16</td>\n",
       "      <td>2.22</td>\n",
       "    </tr>\n",
       "    <tr>\n",
       "      <th>direction</th>\n",
       "      <td>1353053.0</td>\n",
       "      <td>179.698862</td>\n",
       "      <td>104.000522</td>\n",
       "      <td>0.00</td>\n",
       "      <td>90.03</td>\n",
       "      <td>179.24</td>\n",
       "      <td>269.33</td>\n",
       "      <td>360.00</td>\n",
       "    </tr>\n",
       "    <tr>\n",
       "      <th>orientation</th>\n",
       "      <td>1353053.0</td>\n",
       "      <td>180.282297</td>\n",
       "      <td>99.509828</td>\n",
       "      <td>0.00</td>\n",
       "      <td>89.94</td>\n",
       "      <td>180.23</td>\n",
       "      <td>270.17</td>\n",
       "      <td>360.00</td>\n",
       "    </tr>\n",
       "    <tr>\n",
       "      <th>acceleration</th>\n",
       "      <td>1353053.0</td>\n",
       "      <td>0.793154</td>\n",
       "      <td>0.956829</td>\n",
       "      <td>0.00</td>\n",
       "      <td>0.15</td>\n",
       "      <td>0.47</td>\n",
       "      <td>1.04</td>\n",
       "      <td>33.55</td>\n",
       "    </tr>\n",
       "    <tr>\n",
       "      <th>sa</th>\n",
       "      <td>1353053.0</td>\n",
       "      <td>-0.067560</td>\n",
       "      <td>0.992202</td>\n",
       "      <td>-23.10</td>\n",
       "      <td>-0.38</td>\n",
       "      <td>-0.03</td>\n",
       "      <td>0.16</td>\n",
       "      <td>33.55</td>\n",
       "    </tr>\n",
       "  </tbody>\n",
       "</table>\n",
       "</div>"
      ],
      "text/plain": [
       "                   count          mean          std       min       25%  \\\n",
       "game_key       1353053.0  58365.798892   137.696060  58168.00  58225.00   \n",
       "play_id        1353053.0   2156.408095  1211.457383     40.00   1016.00   \n",
       "nfl_player_id  1353053.0  44747.017081  4831.883106  25511.00  42352.00   \n",
       "step           1353053.0    -11.900465   112.549475   -339.00    -86.00   \n",
       "jersey_number  1353053.0     51.282450    28.636098      1.00     25.00   \n",
       "x_position     1353053.0     60.308048    26.815381     -7.47     38.48   \n",
       "y_position     1353053.0     26.758909     8.507395    -12.87     22.49   \n",
       "speed          1353053.0      1.259892     1.658213      0.00      0.12   \n",
       "distance       1353053.0      0.128708     0.166647      0.00      0.02   \n",
       "direction      1353053.0    179.698862   104.000522      0.00     90.03   \n",
       "orientation    1353053.0    180.282297    99.509828      0.00     89.94   \n",
       "acceleration   1353053.0      0.793154     0.956829      0.00      0.15   \n",
       "sa             1353053.0     -0.067560     0.992202    -23.10     -0.38   \n",
       "\n",
       "                    50%       75%       max  \n",
       "game_key       58330.00  58516.00  58582.00  \n",
       "play_id         2369.00   3139.00   4644.00  \n",
       "nfl_player_id  44893.00  47814.00  53985.00  \n",
       "step             -15.00     49.00    692.00  \n",
       "jersey_number     52.00     76.00     99.00  \n",
       "x_position        59.69     81.71    125.65  \n",
       "y_position        26.74     31.04     63.72  \n",
       "speed              0.65      1.62     14.89  \n",
       "distance           0.07      0.16      2.22  \n",
       "direction        179.24    269.33    360.00  \n",
       "orientation      180.23    270.17    360.00  \n",
       "acceleration       0.47      1.04     33.55  \n",
       "sa                -0.03      0.16     33.55  "
      ]
     },
     "execution_count": 8,
     "metadata": {},
     "output_type": "execute_result"
    }
   ],
   "source": [
    "# statistics summary\n",
    "train_player_tracking.describe().T"
   ]
  },
  {
   "cell_type": "code",
   "execution_count": 9,
   "id": "5f853d8d",
   "metadata": {
    "execution": {
     "iopub.execute_input": "2022-12-16T19:33:53.374877Z",
     "iopub.status.busy": "2022-12-16T19:33:53.373899Z",
     "iopub.status.idle": "2022-12-16T19:33:53.480904Z",
     "shell.execute_reply": "2022-12-16T19:33:53.479412Z"
    },
    "papermill": {
     "duration": 0.115744,
     "end_time": "2022-12-16T19:33:53.483343",
     "exception": false,
     "start_time": "2022-12-16T19:33:53.367599",
     "status": "completed"
    },
    "tags": []
   },
   "outputs": [
    {
     "name": "stdout",
     "output_type": "stream",
     "text": [
      "Categorical Features:\n",
      "Index(['game_play', 'team', 'position'], dtype='object')\n",
      "Numerical Features:\n",
      "['game_key', 'play_id', 'nfl_player_id', 'step', 'jersey_number', 'x_position', 'y_position', 'speed', 'distance', 'direction', 'orientation', 'acceleration', 'sa']\n"
     ]
    }
   ],
   "source": [
    "# seperate the categorical and numerical columns\n",
    "categorical_cols = train_player_tracking.select_dtypes(include=['object']).columns\n",
    "numerical_cols = train_player_tracking.select_dtypes(include=np.number).columns.tolist()\n",
    "print(\"Categorical Features:\")\n",
    "print(categorical_cols)\n",
    "print(\"Numerical Features:\")\n",
    "print(numerical_cols)"
   ]
  },
  {
   "cell_type": "markdown",
   "id": "cfc220eb",
   "metadata": {
    "papermill": {
     "duration": 0.004989,
     "end_time": "2022-12-16T19:33:53.493688",
     "exception": false,
     "start_time": "2022-12-16T19:33:53.488699",
     "status": "completed"
    },
    "tags": []
   },
   "source": [
    "#### Univariate EDA"
   ]
  },
  {
   "cell_type": "code",
   "execution_count": 10,
   "id": "14dd33ab",
   "metadata": {
    "execution": {
     "iopub.execute_input": "2022-12-16T19:33:53.506028Z",
     "iopub.status.busy": "2022-12-16T19:33:53.505644Z",
     "iopub.status.idle": "2022-12-16T19:33:59.624561Z",
     "shell.execute_reply": "2022-12-16T19:33:59.623421Z"
    },
    "papermill": {
     "duration": 6.128131,
     "end_time": "2022-12-16T19:33:59.627128",
     "exception": false,
     "start_time": "2022-12-16T19:33:53.498997",
     "status": "completed"
    },
    "tags": []
   },
   "outputs": [
    {
     "name": "stdout",
     "output_type": "stream",
     "text": [
      "game_key\n",
      "Skew : 0.18\n",
      "============================\n"
     ]
    },
    {
     "data": {
      "image/png": "[encoded data removed]",
      "text/plain": [
       "<Figure size 1080x288 with 2 Axes>"
      ]
     },
     "metadata": {
      "needs_background": "light"
     },
     "output_type": "display_data"
    },
    {
     "name": "stdout",
     "output_type": "stream",
     "text": [
      "play_id\n",
      "Skew : -0.12\n",
      "============================\n"
     ]
    },
    {
     "data": {
      "image/png": "[encoded data removed]",
      "text/plain": [
       "<Figure size 1080x288 with 2 Axes>"
      ]
     },
     "metadata": {
      "needs_background": "light"
     },
     "output_type": "display_data"
    },
    {
     "name": "stdout",
     "output_type": "stream",
     "text": [
      "nfl_player_id\n",
      "Skew : -0.34\n",
      "============================\n"
     ]
    },
    {
     "data": {
      "image/png": "[encoded data removed]",
      "text/plain": [
       "<Figure size 1080x288 with 2 Axes>"
      ]
     },
     "metadata": {
      "needs_background": "light"
     },
     "output_type": "display_data"
    },
    {
     "name": "stdout",
     "output_type": "stream",
     "text": [
      "step\n",
      "Skew : 1.19\n",
      "============================\n"
     ]
    },
    {
     "data": {
      "image/png": "[encoded data removed]",
      "text/plain": [
       "<Figure size 1080x288 with 2 Axes>"
      ]
     },
     "metadata": {
      "needs_background": "light"
     },
     "output_type": "display_data"
    },
    {
     "name": "stdout",
     "output_type": "stream",
     "text": [
      "jersey_number\n",
      "Skew : 0.04\n",
      "============================\n"
     ]
    },
    {
     "data": {
      "image/png": "[encoded data removed]",
      "text/plain": [
       "<Figure size 1080x288 with 2 Axes>"
      ]
     },
     "metadata": {
      "needs_background": "light"
     },
     "output_type": "display_data"
    },
    {
     "name": "stdout",
     "output_type": "stream",
     "text": [
      "x_position\n",
      "Skew : 0.04\n",
      "============================\n"
     ]
    },
    {
     "data": {
      "image/png": "[encoded data removed]",
      "text/plain": [
       "<Figure size 1080x288 with 2 Axes>"
      ]
     },
     "metadata": {
      "needs_background": "light"
     },
     "output_type": "display_data"
    },
    {
     "name": "stdout",
     "output_type": "stream",
     "text": [
      "y_position\n",
      "Skew : 0.01\n",
      "============================\n"
     ]
    },
    {
     "data": {
      "image/png": "[encoded data removed]",
      "text/plain": [
       "<Figure size 1080x288 with 2 Axes>"
      ]
     },
     "metadata": {
      "needs_background": "light"
     },
     "output_type": "display_data"
    },
    {
     "name": "stdout",
     "output_type": "stream",
     "text": [
      "speed\n",
      "Skew : 2.13\n",
      "============================\n"
     ]
    },
    {
     "data": {
      "image/png": "[encoded data removed]",
      "text/plain": [
       "<Figure size 1080x288 with 2 Axes>"
      ]
     },
     "metadata": {
      "needs_background": "light"
     },
     "output_type": "display_data"
    },
    {
     "name": "stdout",
     "output_type": "stream",
     "text": [
      "distance\n",
      "Skew : 2.15\n",
      "============================\n"
     ]
    },
    {
     "data": {
      "image/png": "[encoded data removed]",
      "text/plain": [
       "<Figure size 1080x288 with 2 Axes>"
      ]
     },
     "metadata": {
      "needs_background": "light"
     },
     "output_type": "display_data"
    },
    {
     "name": "stdout",
     "output_type": "stream",
     "text": [
      "direction\n",
      "Skew : 0.01\n",
      "============================\n"
     ]
    },
    {
     "data": {
      "image/png": "[encoded data removed]",
      "text/plain": [
       "<Figure size 1080x288 with 2 Axes>"
      ]
     },
     "metadata": {
      "needs_background": "light"
     },
     "output_type": "display_data"
    },
    {
     "name": "stdout",
     "output_type": "stream",
     "text": [
      "orientation\n",
      "Skew : 0.01\n",
      "============================\n"
     ]
    },
    {
     "data": {
      "image/png": "[encoded data removed]",
      "text/plain": [
       "<Figure size 1080x288 with 2 Axes>"
      ]
     },
     "metadata": {
      "needs_background": "light"
     },
     "output_type": "display_data"
    },
    {
     "name": "stdout",
     "output_type": "stream",
     "text": [
      "acceleration\n",
      "Skew : 2.2\n",
      "============================\n"
     ]
    },
    {
     "data": {
      "image/png": "[encoded data removed]",
      "text/plain": [
       "<Figure size 1080x288 with 2 Axes>"
      ]
     },
     "metadata": {
      "needs_background": "light"
     },
     "output_type": "display_data"
    },
    {
     "name": "stdout",
     "output_type": "stream",
     "text": [
      "sa\n",
      "Skew : 0.58\n",
      "============================\n"
     ]
    },
    {
     "data": {
      "image/png": "[encoded data removed]",
      "text/plain": [
       "<Figure size 1080x288 with 2 Axes>"
      ]
     },
     "metadata": {
      "needs_background": "light"
     },
     "output_type": "display_data"
    }
   ],
   "source": [
    "for f in numerical_cols:\n",
    "    print(f)\n",
    "    print('Skew :', round(train_player_tracking[f].skew(), 2))\n",
    "    print(\"============================\")\n",
    "    plt.figure(figsize = (15, 4))\n",
    "    plt.subplot(1, 2, 1)\n",
    "    train_player_tracking[f].hist(grid=False, color='c')\n",
    "    plt.ylabel('count')\n",
    "    plt.subplot(1, 2, 2)\n",
    "    sns.boxplot(x=train_player_tracking[f], color='greenyellow')\n",
    "    plt.show()"
   ]
  },
  {
   "cell_type": "code",
   "execution_count": 11,
   "id": "0bfa34ee",
   "metadata": {
    "execution": {
     "iopub.execute_input": "2022-12-16T19:33:59.649285Z",
     "iopub.status.busy": "2022-12-16T19:33:59.648848Z",
     "iopub.status.idle": "2022-12-16T19:34:01.586029Z",
     "shell.execute_reply": "2022-12-16T19:34:01.585123Z"
    },
    "papermill": {
     "duration": 1.950172,
     "end_time": "2022-12-16T19:34:01.588371",
     "exception": false,
     "start_time": "2022-12-16T19:33:59.638199",
     "status": "completed"
    },
    "tags": []
   },
   "outputs": [
    {
     "data": {
      "image/png": "[encoded data removed]",
      "text/plain": [
       "<Figure size 1296x1296 with 2 Axes>"
      ]
     },
     "metadata": {
      "needs_background": "light"
     },
     "output_type": "display_data"
    }
   ],
   "source": [
    "fig, axes = plt.subplots(2, figsize = (18, 18))\n",
    "fig.suptitle('Bar plot of \"Team\" and \"Position\"')\n",
    "sns.countplot(ax = axes[0], x = 'team', data = train_player_tracking, color = 'red', \n",
    "              order = train_player_tracking['team'].value_counts().index);\n",
    "sns.countplot(ax = axes[1], x = 'position', data = train_player_tracking, color = 'magenta', \n",
    "              order = train_player_tracking['position'].value_counts().index);"
   ]
  },
  {
   "cell_type": "code",
   "execution_count": null,
   "id": "ce837ebf",
   "metadata": {
    "papermill": {
     "duration": 0.009594,
     "end_time": "2022-12-16T19:34:01.608408",
     "exception": false,
     "start_time": "2022-12-16T19:34:01.598814",
     "status": "completed"
    },
    "tags": []
   },
   "outputs": [],
   "source": []
  }
 ],
 "metadata": {
  "kernelspec": {
   "display_name": "Python 3",
   "language": "python",
   "name": "python3"
  },
  "language_info": {
   "codemirror_mode": {
    "name": "ipython",
    "version": 3
   },
   "file_extension": ".py",
   "mimetype": "text/x-python",
   "name": "python",
   "nbconvert_exporter": "python",
   "pygments_lexer": "ipython3",
   "version": "3.7.12"
  },
  "papermill": {
   "default_parameters": {},
   "duration": 68.74534,
   "end_time": "2022-12-16T19:34:02.844290",
   "environment_variables": {},
   "exception": null,
   "input_path": "__notebook__.ipynb",
   "output_path": "__notebook__.ipynb",
   "parameters": {},
   "start_time": "2022-12-16T19:32:54.098950",
   "version": "2.3.4"
  }
 },
 "nbformat": 4,
 "nbformat_minor": 5
}
